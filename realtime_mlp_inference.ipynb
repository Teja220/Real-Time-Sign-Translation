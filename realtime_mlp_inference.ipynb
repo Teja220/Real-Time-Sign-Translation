{
 "cells": [
  {
   "cell_type": "code",
   "execution_count": 1,
   "id": "8b6d893a-9fb0-448b-9068-c9028c024c6c",
   "metadata": {},
   "outputs": [
    {
     "name": "stderr",
     "output_type": "stream",
     "text": [
      "C:\\Users\\saite\\AppData\\Local\\Temp\\ipykernel_17892\\2600450218.py:56: RuntimeWarning: invalid value encountered in divide\n",
      "  input_data = (input_data - np.mean(input_data)) / np.std(input_data)\n"
     ]
    }
   ],
   "source": [
    "# ---------------------------------------------\n",
    "# PURPOSE: Real-time sign prediction using trained MLP model\n",
    "# ---------------------------------------------\n",
    "\n",
    "import cv2\n",
    "import numpy as np\n",
    "import os\n",
    "from tensorflow.keras.models import load_model\n",
    "import mediapipe as mp\n",
    "from collections import deque\n",
    "\n",
    "# Load MLP model\n",
    "model = load_model(\"mlp_sign_model_finetuned.h5\")\n",
    "actions = ['hello', 'iloveyou', 'please', 'thankyou', 'ok', 'excuseme', 'sorry', 'welcome', 'stop', 'goodbye']\n",
    "sequence_length = 30\n",
    "\n",
    "# Load Mediapipe\n",
    "mp_holistic = mp.solutions.holistic\n",
    "mp_drawing = mp.solutions.drawing_utils\n",
    "\n",
    "# Extract Keypoints\n",
    "def extract_keypoints(results):\n",
    "    pose = np.array([[res.x, res.y, res.z, res.visibility] for res in results.pose_landmarks.landmark]).flatten() if results.pose_landmarks else np.zeros(33*4)\n",
    "    face = np.array([[res.x, res.y, res.z] for res in results.face_landmarks.landmark]).flatten() if results.face_landmarks else np.zeros(468*3)\n",
    "    lh = np.array([[res.x, res.y, res.z] for res in results.left_hand_landmarks.landmark]).flatten() if results.left_hand_landmarks else np.zeros(21*3)\n",
    "    rh = np.array([[res.x, res.y, res.z] for res in results.right_hand_landmarks.landmark]).flatten() if results.right_hand_landmarks else np.zeros(21*3)\n",
    "    return np.concatenate([pose, face, lh, rh])\n",
    "\n",
    "# Real-time webcam\n",
    "sequence = deque(maxlen=sequence_length)\n",
    "cap = cv2.VideoCapture(0)\n",
    "\n",
    "with mp_holistic.Holistic(min_detection_confidence=0.5, min_tracking_confidence=0.5) as holistic:\n",
    "    while cap.isOpened():\n",
    "        ret, frame = cap.read()\n",
    "        image = cv2.cvtColor(frame, cv2.COLOR_BGR2RGB)\n",
    "        image.flags.writeable = False\n",
    "        results = holistic.process(image)\n",
    "        image.flags.writeable = True\n",
    "        image = cv2.cvtColor(image, cv2.COLOR_RGB2BGR)\n",
    "\n",
    "        mp_drawing.draw_landmarks(image, results.face_landmarks, mp_holistic.FACEMESH_TESSELATION)\n",
    "        mp_drawing.draw_landmarks(image, results.pose_landmarks, mp_holistic.POSE_CONNECTIONS)\n",
    "        mp_drawing.draw_landmarks(image, results.left_hand_landmarks, mp_holistic.HAND_CONNECTIONS)\n",
    "        mp_drawing.draw_landmarks(image, results.right_hand_landmarks, mp_holistic.HAND_CONNECTIONS)\n",
    "\n",
    "               # Show current model in use\n",
    "        cv2.putText(image, 'Model: MLP', (10, 30),\n",
    "                    cv2.FONT_HERSHEY_SIMPLEX, 0.7, (255, 255, 0), 2, cv2.LINE_AA)\n",
    "\n",
    "        keypoints = extract_keypoints(results)\n",
    "        sequence.append(keypoints)\n",
    "\n",
    "        if len(sequence) == sequence_length:\n",
    "            input_data = np.array(sequence)\n",
    "            input_data = (input_data - np.mean(input_data)) / np.std(input_data)\n",
    "            input_data = input_data.reshape(1, sequence_length, -1)  # Match MLP input shape\n",
    "\n",
    "            try:\n",
    "                prediction = model.predict(input_data, verbose=0)[0]\n",
    "                action = actions[np.argmax(prediction)]\n",
    "                confidence = np.max(prediction)\n",
    "                if confidence > 0.75:\n",
    "                    cv2.putText(image, f'{action.upper()} ({confidence:.2f})', (10, 60),\n",
    "                                cv2.FONT_HERSHEY_SIMPLEX, 1.2, (0, 255, 0), 3, cv2.LINE_AA)\n",
    "            except Exception as e:\n",
    "                print(\"Prediction error:\", e)\n",
    "\n",
    "\n",
    "        cv2.imshow('MLP Sign Prediction', image)\n",
    "        if cv2.waitKey(10) & 0xFF == ord('q'):\n",
    "            break\n",
    "\n",
    "cap.release()\n",
    "cv2.destroyAllWindows()"
   ]
  },
  {
   "cell_type": "code",
   "execution_count": null,
   "id": "604597df-0b46-4435-a291-509d399e7af7",
   "metadata": {},
   "outputs": [],
   "source": []
  }
 ],
 "metadata": {
  "kernelspec": {
   "display_name": "Python 3 (ipykernel)",
   "language": "python",
   "name": "python3"
  },
  "language_info": {
   "codemirror_mode": {
    "name": "ipython",
    "version": 3
   },
   "file_extension": ".py",
   "mimetype": "text/x-python",
   "name": "python",
   "nbconvert_exporter": "python",
   "pygments_lexer": "ipython3",
   "version": "3.10.16"
  }
 },
 "nbformat": 4,
 "nbformat_minor": 5
}
